{
 "cells": [
  {
   "cell_type": "code",
   "execution_count": 1,
   "metadata": {},
   "outputs": [],
   "source": [
    "from langchain.prompts import PromptTemplate\n",
    "from dotenv import load_dotenv"
   ]
  },
  {
   "cell_type": "code",
   "execution_count": 2,
   "metadata": {},
   "outputs": [
    {
     "data": {
      "text/plain": [
       "True"
      ]
     },
     "execution_count": 2,
     "metadata": {},
     "output_type": "execute_result"
    }
   ],
   "source": [
    "# Load environment data incase python cannot detect it\n",
    "\n",
    "load_dotenv()"
   ]
  },
  {
   "cell_type": "code",
   "execution_count": 3,
   "metadata": {},
   "outputs": [],
   "source": [
    "# Example input format\n",
    "\n",
    "eng_formal_chat = [\n",
    "    {\"user\": \"Alice\", \"text\": \"Hey everyone! Did anyone manage to finish the report for tomorrow?\"},\n",
    "    {\"user\": \"Bob\", \"text\": \"Hey Alice! I’m almost done. Just adding some charts. What about you guys?\"},\n",
    "    {\"user\": \"Charlie\", \"text\": \"Uhh, I haven’t started... Got sidetracked with another project.\"},\n",
    "    {\"user\": \"Diana\", \"text\": \"Same here, Charlie! Just finishing up some other tasks. I’ll get on it later tonight.\"},\n",
    "    {\"user\": \"Eve\", \"text\": \"I’m halfway through. I can send my part if anyone wants a sneak peek.\"},\n",
    "    {\"user\": \"Alice\", \"text\": \"That’d be awesome, Eve! Could you send it over?\"},\n",
    "    {\"user\": \"Eve\", \"text\": \"Sure thing! Let me just tidy it up a bit.\"},\n",
    "    {\"user\": \"Charlie\", \"text\": \"Thanks, Eve! That’ll really help.\"},\n",
    "    {\"user\": \"Bob\", \"text\": \"Btw, did anyone see the new season of that show we were talking about?\"},\n",
    "    {\"user\": \"Diana\", \"text\": \"YES! I binged it over the weekend. So many plot twists!\"},\n",
    "    {\"user\": \"Alice\", \"text\": \"I started it but only a couple of episodes in. No spoilers, please!\"},\n",
    "    {\"user\": \"Eve\", \"text\": \"Same here, Alice! Trying to catch up though.\"},\n",
    "    {\"user\": \"Charlie\", \"text\": \"No worries, we’ll keep the spoilers to a minimum! But it’s epic, you guys will love it.\"},\n",
    "    {\"user\": \"Bob\", \"text\": \"Epic is an understatement! Best season yet.\"},\n",
    "    {\"user\": \"Alice\", \"text\": \"Haha, you all are making me want to skip the report and just binge it now.\"},\n",
    "    {\"user\": \"Diana\", \"text\": \"Tempting, isn’t it? But we gotta get this report done first.\"},\n",
    "    {\"user\": \"Charlie\", \"text\": \"Alright, alright. Back to work. I’ll check in with you guys later tonight.\"},\n",
    "    {\"user\": \"Eve\", \"text\": \"Good luck, everyone! Ping me if you need anything from my section.\"},\n",
    "    {\"user\": \"Alice\", \"text\": \"Thanks, Eve! And thanks for the motivation, everyone. Let’s get this done!\"}\n",
    "]\n",
    "\n",
    "eng_casual_chat = [\n",
    "    {\"user\": \"Alice\", \"text\": \"Yo! What’s everyone up to today?\"},\n",
    "    {\"user\": \"Bob\", \"text\": \"Hey! Just chillin’. Might hit the gym later. You?\"},\n",
    "    {\"user\": \"Charlie\", \"text\": \"Same here. Been binging that new show. Anyone else watching it?\"},\n",
    "    {\"user\": \"Diana\", \"text\": \"Omg, yesss! It’s so good! Stayed up way too late last night watching. 😂\"},\n",
    "    {\"user\": \"Eve\", \"text\": \"Lol same, I’m obsessed. Totally ignoring my to-do list today. 😅\"},\n",
    "    {\"user\": \"Alice\", \"text\": \"Haha, I need to start it! Everyone’s raving about it.\"},\n",
    "    {\"user\": \"Bob\", \"text\": \"Yeah, you def should! But good luck stopping after one ep, it's addictive.\"},\n",
    "    {\"user\": \"Charlie\", \"text\": \"Real talk, I didn’t sleep at all... like zero self-control. 😅\"},\n",
    "    {\"user\": \"Diana\", \"text\": \"Haha, classic. We all know how that goes!\"},\n",
    "    {\"user\": \"Eve\", \"text\": \"So... anyone down to grab food later? Could use some fresh air.\"},\n",
    "    {\"user\": \"Alice\", \"text\": \"I’m in! Been craving some sushi, tbh.\"},\n",
    "    {\"user\": \"Bob\", \"text\": \"Sushi sounds bomb. Let’s do it!\"},\n",
    "    {\"user\": \"Charlie\", \"text\": \"Yesss. Sushi + iced coffee after? I’m hooked on iced coffee lately.\"},\n",
    "    {\"user\": \"Diana\", \"text\": \"Oh I’m so down! It’s a whole vibe today 😎\"},\n",
    "    {\"user\": \"Eve\", \"text\": \"Cool, when are we meeting? I gotta run some errands first.\"},\n",
    "    {\"user\": \"Alice\", \"text\": \"How about 2-ish? Gives everyone time to get their stuff done.\"},\n",
    "    {\"user\": \"Bob\", \"text\": \"Perfect. Catch y’all then!\"},\n",
    "    {\"user\": \"Charlie\", \"text\": \"Sweet, see you guys at 2!\"},\n",
    "    {\"user\": \"Diana\", \"text\": \"Can’t wait, fam! See ya soon!\"},\n",
    "    {\"user\": \"Eve\", \"text\": \"Later, squad! 🥳\"}\n",
    "]\n",
    "\n",
    "id_casual_chat = [\n",
    "    {\"user\": \"Alice\", \"text\": \"Eh guys, ada yang lagi ngapain nih?\"},\n",
    "    {\"user\": \"Bob\", \"text\": \"Lagi santai aja, mau ke gym bentar, lu pada gimana?\"},\n",
    "    {\"user\": \"Charlie\", \"text\": \"Gue lagi nonton series baru nih, ada yang nonton gak?\"},\n",
    "    {\"user\": \"Diana\", \"text\": \"Omg, iya! Seru banget! Gue sampe begadang kemarin malem 😂\"},\n",
    "    {\"user\": \"Eve\", \"text\": \"Haha gue juga! Nggak bisa berhenti nonton deh 😅\"},\n",
    "    {\"user\": \"Alice\", \"text\": \"Wah, gue belum nonton tuh! Pada bilang seru banget.\"},\n",
    "    {\"user\": \"Bob\", \"text\": \"Wajib nonton! Tapi hati-hati, sekali nonton susah berhenti deh.\"},\n",
    "    {\"user\": \"Charlie\", \"text\": \"Gue sampe gak tidur kemarin saking serunya 😅\"},\n",
    "    {\"user\": \"Diana\", \"text\": \"Hahaha, klasik banget! Kalo udah gitu pasti keasyikan.\"},\n",
    "    {\"user\": \"Eve\", \"text\": \"Eh, ngomong-ngomong, ada yang mau makan gak? Pengen jalan-jalan bentar.\"},\n",
    "    {\"user\": \"Alice\", \"text\": \"Gue sih pengen sushi banget nih!\"}, \n",
    "    {\"user\": \"Bob\", \"text\": \"Sushi enak tuh! Ayo aja.\"},\n",
    "    {\"user\": \"Charlie\", \"text\": \"Sushi + kopi dingin gak? Gue lagi kecanduan kopi dingin.\"},\n",
    "    {\"user\": \"Diana\", \"text\": \"Wah, boleh banget! Kombinasi yang pas! 😎\"},\n",
    "    {\"user\": \"Eve\", \"text\": \"Oke deh, jam berapa nih? Gue masih ada urusan bentar.\"},\n",
    "    {\"user\": \"Alice\", \"text\": \"Gimana kalo jam 2 aja? Biar pada siap-siap dulu.\"},\n",
    "    {\"user\": \"Bob\", \"text\": \"Sip, jam 2 fix. Sampai ketemu nanti!\"}, \n",
    "    {\"user\": \"Charlie\", \"text\": \"Siap, sampe nanti ya!\"}, \n",
    "    {\"user\": \"Diana\", \"text\": \"Gak sabar nih, see you guys!\"},\n",
    "    {\"user\": \"Eve\", \"text\": \"Oke deh, nanti ketemu ya! 🥳\"}\n",
    "]\n",
    "\n",
    "real_chat = [\n",
    "    {\"user\": \"Obert Lais\", \"text\": \"ad yg liat kunci kos gua ga\"},\n",
    "    {\"user\": \"Obert Lais\", \"text\": \"ad tlisan 611\"},\n",
    "    {\"user\": \"sheryl\", \"text\": \"Ges\"},\n",
    "    {\"user\": \"sheryl\", \"text\": \"Ad yg kebawa kunci kos obert g\"},\n",
    "    {\"user\": \"sheryl\", \"text\": \"Ada tag warna biru gt\"},\n",
    "    {\"user\": \"Rico\", \"text\": \"Itu?\"},\n",
    "    {\"user\": \"sheryl\", \"text\": \"Dimana itu\"},\n",
    "    {\"user\": \"sheryl\", \"text\": \"Iya itu\"},\n",
    "    {\"user\": \"Rico\", \"text\": \"@Jeremy ni pemiliknya\"},\n",
    "    {\"user\": \"sheryl\", \"text\": \"Ha?\"},\n",
    "    {\"user\": \"sheryl\", \"text\": \"@Obert Lais\"},\n",
    "    {\"user\": \"Rico\", \"text\": \"My yang nemuin\"},\n",
    "    {\"user\": \"sheryl\", \"text\": \"Ohh\"},\n",
    "    {\"user\": \"Rico\", \"text\": \"Tp keknya blm baca grup ini dia\"},\n",
    "    {\"user\": \"sheryl\", \"text\": \"Nemu dmn bro @Jeremy\"},\n",
    "    {\"user\": \"sheryl\", \"text\": \"Itu dia send td siang ya IO?\"},\n",
    "    {\"user\": \"sheryl\", \"text\": \"Ke grup NA?\"},\n",
    "    {\"user\": \"Rico\", \"text\": \"Kaga\"},\n",
    "    {\"user\": \"Rico\", \"text\": \"Baru pisan\"},\n",
    "    {\"user\": \"Rico\", \"text\": \"Hooh\"},\n",
    "    {\"user\": \"sheryl\", \"text\": \"Haa dia nemu di wer\"},\n",
    "    {\"user\": \"sheryl\", \"text\": \"Jgnjgn di rang kwkw\"},\n",
    "    {\"user\": \"sheryl\", \"text\": \"Td kt ad buka rang?\"},\n",
    "    {\"user\": \"Efran NL\", \"text\": \"tadi si obert duduk2 di meja jeremy sih\"},\n",
    "    {\"user\": \"Rico\", \"text\": \"Kaga tau, tanya MY aja\"},\n",
    "    {\"user\": \"sheryl\", \"text\": \"Oooooo\"},\n",
    "    {\"user\": \"Obert Lais\", \"text\": \"aowkwowko\"},\n",
    "    {\"user\": \"sheryl\", \"text\": \"Bruh\"},\n",
    "    {\"user\": \"sheryl\", \"text\": \"Gmn si\"},\n",
    "    {\"user\": \"sheryl\", \"text\": \"Untung jeremoy nemu\"},\n",
    "    {\"user\": \"sheryl\", \"text\": \"Thanku io infonya\"},\n",
    "    {\"user\": \"sheryl\", \"text\": \"N efran jg\"}\n",
    "]\n",
    "\n",
    "\n",
    "# Define prompt template\n",
    "template = (\n",
    "    \"Here is a chat conversation:\\n\\n\"\n",
    "    \"{chat}\\n\\n\"\n",
    "    \"!! IMPORTANT: Please provide a one-sentence summary for each user, highlighting their main contributions and key points succinctly, in the format 'user: message'. \"\n",
    "    \"The summary should be clear, neutral, and concise, without being too formal or too casual. \"\n",
    "    \"Ensure that the sentence order reflects the original flow of the conversation, while keeping the summary very concise.\"\n",
    "    \"Prevent from outputing a user multiple times if keeping the flow of the conversation is doable in a single sentence.\\n\\n\"\n",
    "    \"!! IMPORTANT: Use the following language for the summary: {language}.\"\n",
    ")\n",
    "\n",
    "\n",
    "casual_template = (\n",
    "    \"Here's a chat conversation:\\n\\n\"\n",
    "    \"{chat}\\n\\n\"\n",
    "    \"Can you give a one-sentence, summary for each person, focusing on their main points? \"\n",
    "    \"Keep it short and make it sound like a casual chat. \"\n",
    "    \"Make sure the summary matches the language of each person’s messages (English, Indonesian, or whatever language they’re using).\"\n",
    ")\n"
   ]
  },
  {
   "cell_type": "code",
   "execution_count": 4,
   "metadata": {},
   "outputs": [],
   "source": [
    "from langchain_openai import ChatOpenAI\n",
    "from langchain_core.prompts import ChatPromptTemplate\n",
    "from langchain_core.output_parsers import StrOutputParser\n",
    "\n",
    "llm_gpt4_mini = ChatOpenAI(model='gpt-4o-mini')\n",
    "\n",
    "summarize_prompt = ChatPromptTemplate(\n",
    "    [('human', template)]\n",
    "    )\n",
    "\n",
    "summary_chain = summarize_prompt | llm_gpt4_mini | StrOutputParser()"
   ]
  },
  {
   "cell_type": "code",
   "execution_count": 5,
   "metadata": {},
   "outputs": [],
   "source": [
    "query = \"\\n\".join([f\"{message['user']}: {message['text']}\" for message in real_chat])\n",
    "\n",
    "summary = summary_chain.invoke({'chat': query, 'language': 'English'})"
   ]
  },
  {
   "cell_type": "code",
   "execution_count": 6,
   "metadata": {},
   "outputs": [
    {
     "name": "stdout",
     "output_type": "stream",
     "text": [
      "Obert Lais: Mencari kunci kos yang hilang dengan kode 611.  \n",
      "Sheryl: Mengonfirmasi bahwa kunci dengan tag biru ditemukan dan menanyakan lokasi penemuan.  \n",
      "Rico: Menyebutkan bahwa Jeremy adalah pemilik kunci dan menyampaikan informasi bahwa dia baru saja menemukannya.  \n",
      "Efran NL: Menyebutkan bahwa Obert duduk di meja Jeremy sebelumnya.  \n",
      "Sheryl: Menyatakan terima kasih kepada Jeremy karena telah menemukan kunci dan berterima kasih kepada Efran juga.\n"
     ]
    }
   ],
   "source": [
    "print(summary)"
   ]
  },
  {
   "cell_type": "code",
   "execution_count": 7,
   "metadata": {},
   "outputs": [
    {
     "name": "stdout",
     "output_type": "stream",
     "text": [
      "Obert Lais: ad yg liat kunci kos gua ga\n",
      "Obert Lais: ad tlisan 611\n",
      "sheryl: Ges\n",
      "sheryl: Ad yg kebawa kunci kos obert g\n",
      "sheryl: Ada tag warna biru gt\n",
      "Rico: Itu?\n",
      "sheryl: Dimana itu\n",
      "sheryl: Iya itu\n",
      "Rico: @Jeremy ni pemiliknya\n",
      "sheryl: Ha?\n",
      "sheryl: @Obert Lais\n",
      "Rico: My yang nemuin\n",
      "sheryl: Ohh\n",
      "Rico: Tp keknya blm baca grup ini dia\n",
      "sheryl: Nemu dmn bro @Jeremy\n",
      "sheryl: Itu dia send td siang ya IO?\n",
      "sheryl: Ke grup NA?\n",
      "Rico: Kaga\n",
      "Rico: Baru pisan\n",
      "Rico: Hooh\n",
      "sheryl: Haa dia nemu di wer\n",
      "sheryl: Jgnjgn di rang kwkw\n",
      "sheryl: Td kt ad buka rang?\n",
      "Efran NL: tadi si obert duduk2 di meja jeremy sih\n",
      "Rico: Kaga tau, tanya MY aja\n",
      "sheryl: Oooooo\n",
      "Obert Lais: aowkwowko\n",
      "sheryl: Bruh\n",
      "sheryl: Gmn si\n",
      "sheryl: Untung jeremoy nemu\n",
      "sheryl: Thanku io infonya\n",
      "sheryl: N efran jg\n"
     ]
    }
   ],
   "source": [
    "print(query)"
   ]
  }
 ],
 "metadata": {
  "kernelspec": {
   "display_name": "Python 3",
   "language": "python",
   "name": "python3"
  },
  "language_info": {
   "codemirror_mode": {
    "name": "ipython",
    "version": 3
   },
   "file_extension": ".py",
   "mimetype": "text/x-python",
   "name": "python",
   "nbconvert_exporter": "python",
   "pygments_lexer": "ipython3",
   "version": "3.8.3"
  }
 },
 "nbformat": 4,
 "nbformat_minor": 2
}
